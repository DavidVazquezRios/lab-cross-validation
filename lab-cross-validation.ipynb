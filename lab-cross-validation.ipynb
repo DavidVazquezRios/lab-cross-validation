{
 "cells": [
  {
   "cell_type": "code",
   "execution_count": 1,
   "metadata": {
    "executionInfo": {
     "elapsed": 2587,
     "status": "ok",
     "timestamp": 1614776765673,
     "user": {
      "displayName": "Ignacio Soteras",
      "photoUrl": "",
      "userId": "02050793736257155229"
     },
     "user_tz": -60
    },
    "id": "obMU7Q1KqUs1"
   },
   "outputs": [],
   "source": [
    "import pandas as pd\n",
    "import numpy as np\n",
    "import statsmodels.api as sm\n",
    "from sklearn import preprocessing\n",
    "from sklearn.model_selection import train_test_split\n",
    "from sklearn.linear_model import LogisticRegression\n",
    "from sklearn.metrics import classification_report\n",
    "from sklearn.tree import DecisionTreeClassifier\n"
   ]
  },
  {
   "cell_type": "code",
   "execution_count": 2,
   "metadata": {},
   "outputs": [],
   "source": [
    "#check datatypes\n",
    "def check_dtypes2(dataframe):\n",
    "    test =dataframe.dtypes\n",
    "    x=0\n",
    "    for i in range (len(dataframe.columns)):\n",
    "        print(\"COL NAME: \",dataframe.columns[i])\n",
    "        print(\"  TYPE: \",test[x])\n",
    "        print(\"  % OF UNIQUE VALUES: \", (len(pd.unique(dataframe[dataframe.columns[i]]))/len(dataframe[dataframe.columns[i]]))*100 )\n",
    "        print(\"  Values: \",pd.unique(dataframe[dataframe.columns[i]]))\n",
    "        print(\"  SAMPLE: \",dataframe.iloc[0][dataframe.columns[i]])\n",
    "        print()\n",
    "        x+=1\n",
    "    return()\n",
    "#dealing with null values\n",
    "\n",
    "#null values info\n",
    "def null_find(dataframe):\n",
    "    null_df = pd.DataFrame(round(dataframe.isna().sum()/len(dataframe),4)*100)\n",
    "    null_df = null_df.reset_index()\n",
    "    null_df.columns = ['header','percentage_nulls']\n",
    "    return(null_df)\n",
    "           \n",
    "#null values reduction\n",
    "def null_reduction(dataframe,porcentage):\n",
    "    null_df=null_find(dataframe)\n",
    "    columns_drop = null_df[null_df['percentage_nulls']>porcentage]['header']\n",
    "    return dataframe.drop(columns_drop,axis=1)\n",
    "\n",
    "# print non zero null columns\n",
    "\n",
    "def print_nan(dataframe):\n",
    "    null_df = null_find(dataframe)\n",
    "    null_df = null_df[null_df['percentage_nulls']>0]\n",
    "    print(null_df)\n",
    "    return()\n",
    "\n",
    "\n",
    "#scaler\n",
    "def scaleColumns(df, cols_to_scale):\n",
    "    scaler = preprocessing.StandardScaler()\n",
    "\n",
    "    for col in cols_to_scale:\n",
    "        df[col] = pd.DataFrame(scaler.fit_transform(pd.DataFrame(df[col])),columns=[col])\n",
    "    return df\n"
   ]
  },
  {
   "cell_type": "markdown",
   "metadata": {},
   "source": [
    "Read that data into Python and call the dataframe churnData."
   ]
  },
  {
   "cell_type": "code",
   "execution_count": 3,
   "metadata": {
    "colab": {
     "base_uri": "https://localhost:8080/"
    },
    "executionInfo": {
     "elapsed": 3671,
     "status": "ok",
     "timestamp": 1605712644894,
     "user": {
      "displayName": "Ignacio Soteras",
      "photoUrl": "",
      "userId": "02050793736257155229"
     },
     "user_tz": -60
    },
    "id": "YUsR5xP2wIPe",
    "outputId": "7ff17e1b-b84f-4672-841e-703bcf318955",
    "scrolled": false
   },
   "outputs": [
    {
     "data": {
      "text/html": [
       "<div>\n",
       "<style scoped>\n",
       "    .dataframe tbody tr th:only-of-type {\n",
       "        vertical-align: middle;\n",
       "    }\n",
       "\n",
       "    .dataframe tbody tr th {\n",
       "        vertical-align: top;\n",
       "    }\n",
       "\n",
       "    .dataframe thead th {\n",
       "        text-align: right;\n",
       "    }\n",
       "</style>\n",
       "<table border=\"1\" class=\"dataframe\">\n",
       "  <thead>\n",
       "    <tr style=\"text-align: right;\">\n",
       "      <th></th>\n",
       "      <th>gender</th>\n",
       "      <th>SeniorCitizen</th>\n",
       "      <th>Partner</th>\n",
       "      <th>Dependents</th>\n",
       "      <th>tenure</th>\n",
       "      <th>PhoneService</th>\n",
       "      <th>OnlineSecurity</th>\n",
       "      <th>OnlineBackup</th>\n",
       "      <th>DeviceProtection</th>\n",
       "      <th>TechSupport</th>\n",
       "      <th>StreamingTV</th>\n",
       "      <th>StreamingMovies</th>\n",
       "      <th>Contract</th>\n",
       "      <th>MonthlyCharges</th>\n",
       "      <th>TotalCharges</th>\n",
       "      <th>Churn</th>\n",
       "    </tr>\n",
       "  </thead>\n",
       "  <tbody>\n",
       "    <tr>\n",
       "      <th>0</th>\n",
       "      <td>Female</td>\n",
       "      <td>0</td>\n",
       "      <td>Yes</td>\n",
       "      <td>No</td>\n",
       "      <td>1</td>\n",
       "      <td>No</td>\n",
       "      <td>No</td>\n",
       "      <td>Yes</td>\n",
       "      <td>No</td>\n",
       "      <td>No</td>\n",
       "      <td>No</td>\n",
       "      <td>No</td>\n",
       "      <td>Month-to-month</td>\n",
       "      <td>29.85</td>\n",
       "      <td>29.85</td>\n",
       "      <td>No</td>\n",
       "    </tr>\n",
       "    <tr>\n",
       "      <th>1</th>\n",
       "      <td>Male</td>\n",
       "      <td>0</td>\n",
       "      <td>No</td>\n",
       "      <td>No</td>\n",
       "      <td>34</td>\n",
       "      <td>Yes</td>\n",
       "      <td>Yes</td>\n",
       "      <td>No</td>\n",
       "      <td>Yes</td>\n",
       "      <td>No</td>\n",
       "      <td>No</td>\n",
       "      <td>No</td>\n",
       "      <td>One year</td>\n",
       "      <td>56.95</td>\n",
       "      <td>1889.5</td>\n",
       "      <td>No</td>\n",
       "    </tr>\n",
       "    <tr>\n",
       "      <th>2</th>\n",
       "      <td>Male</td>\n",
       "      <td>0</td>\n",
       "      <td>No</td>\n",
       "      <td>No</td>\n",
       "      <td>2</td>\n",
       "      <td>Yes</td>\n",
       "      <td>Yes</td>\n",
       "      <td>Yes</td>\n",
       "      <td>No</td>\n",
       "      <td>No</td>\n",
       "      <td>No</td>\n",
       "      <td>No</td>\n",
       "      <td>Month-to-month</td>\n",
       "      <td>53.85</td>\n",
       "      <td>108.15</td>\n",
       "      <td>Yes</td>\n",
       "    </tr>\n",
       "    <tr>\n",
       "      <th>3</th>\n",
       "      <td>Male</td>\n",
       "      <td>0</td>\n",
       "      <td>No</td>\n",
       "      <td>No</td>\n",
       "      <td>45</td>\n",
       "      <td>No</td>\n",
       "      <td>Yes</td>\n",
       "      <td>No</td>\n",
       "      <td>Yes</td>\n",
       "      <td>Yes</td>\n",
       "      <td>No</td>\n",
       "      <td>No</td>\n",
       "      <td>One year</td>\n",
       "      <td>42.30</td>\n",
       "      <td>1840.75</td>\n",
       "      <td>No</td>\n",
       "    </tr>\n",
       "    <tr>\n",
       "      <th>4</th>\n",
       "      <td>Female</td>\n",
       "      <td>0</td>\n",
       "      <td>No</td>\n",
       "      <td>No</td>\n",
       "      <td>2</td>\n",
       "      <td>Yes</td>\n",
       "      <td>No</td>\n",
       "      <td>No</td>\n",
       "      <td>No</td>\n",
       "      <td>No</td>\n",
       "      <td>No</td>\n",
       "      <td>No</td>\n",
       "      <td>Month-to-month</td>\n",
       "      <td>70.70</td>\n",
       "      <td>151.65</td>\n",
       "      <td>Yes</td>\n",
       "    </tr>\n",
       "  </tbody>\n",
       "</table>\n",
       "</div>"
      ],
      "text/plain": [
       "   gender  SeniorCitizen Partner Dependents  tenure PhoneService  \\\n",
       "0  Female              0     Yes         No       1           No   \n",
       "1    Male              0      No         No      34          Yes   \n",
       "2    Male              0      No         No       2          Yes   \n",
       "3    Male              0      No         No      45           No   \n",
       "4  Female              0      No         No       2          Yes   \n",
       "\n",
       "  OnlineSecurity OnlineBackup DeviceProtection TechSupport StreamingTV  \\\n",
       "0             No          Yes               No          No          No   \n",
       "1            Yes           No              Yes          No          No   \n",
       "2            Yes          Yes               No          No          No   \n",
       "3            Yes           No              Yes         Yes          No   \n",
       "4             No           No               No          No          No   \n",
       "\n",
       "  StreamingMovies        Contract  MonthlyCharges TotalCharges Churn  \n",
       "0              No  Month-to-month           29.85        29.85    No  \n",
       "1              No        One year           56.95       1889.5    No  \n",
       "2              No  Month-to-month           53.85       108.15   Yes  \n",
       "3              No        One year           42.30      1840.75    No  \n",
       "4              No  Month-to-month           70.70       151.65   Yes  "
      ]
     },
     "execution_count": 3,
     "metadata": {},
     "output_type": "execute_result"
    }
   ],
   "source": [
    "churnData = pd.read_csv('./files_for_lab/Customer-Churn.csv')\n",
    "churnData.head()"
   ]
  },
  {
   "cell_type": "markdown",
   "metadata": {},
   "source": [
    "Check the datatypes of all the columns in the data. You would see that the column TotalCharges is object type. Convert this column into numeric type using pd.to_numeric function."
   ]
  },
  {
   "cell_type": "code",
   "execution_count": 4,
   "metadata": {
    "scrolled": true
   },
   "outputs": [
    {
     "name": "stdout",
     "output_type": "stream",
     "text": [
      "COL NAME:  gender\n",
      "  TYPE:  object\n",
      "  % OF UNIQUE VALUES:  0.02839698991906858\n",
      "  Values:  ['Female' 'Male']\n",
      "  SAMPLE:  Female\n",
      "\n",
      "COL NAME:  SeniorCitizen\n",
      "  TYPE:  int64\n",
      "  % OF UNIQUE VALUES:  0.02839698991906858\n",
      "  Values:  [0 1]\n",
      "  SAMPLE:  0\n",
      "\n",
      "COL NAME:  Partner\n",
      "  TYPE:  object\n",
      "  % OF UNIQUE VALUES:  0.02839698991906858\n",
      "  Values:  ['Yes' 'No']\n",
      "  SAMPLE:  Yes\n",
      "\n",
      "COL NAME:  Dependents\n",
      "  TYPE:  object\n",
      "  % OF UNIQUE VALUES:  0.02839698991906858\n",
      "  Values:  ['No' 'Yes']\n",
      "  SAMPLE:  No\n",
      "\n",
      "COL NAME:  tenure\n",
      "  TYPE:  int64\n",
      "  % OF UNIQUE VALUES:  1.0364901320460032\n",
      "  Values:  [ 1 34  2 45  8 22 10 28 62 13 16 58 49 25 69 52 71 21 12 30 47 72 17 27\n",
      "  5 46 11 70 63 43 15 60 18 66  9  3 31 50 64 56  7 42 35 48 29 65 38 68\n",
      " 32 55 37 36 41  6  4 33 67 23 57 61 14 20 53 40 59 24 44 19 54 51 26  0\n",
      " 39]\n",
      "  SAMPLE:  1\n",
      "\n",
      "COL NAME:  PhoneService\n",
      "  TYPE:  object\n",
      "  % OF UNIQUE VALUES:  0.02839698991906858\n",
      "  Values:  ['No' 'Yes']\n",
      "  SAMPLE:  No\n",
      "\n",
      "COL NAME:  OnlineSecurity\n",
      "  TYPE:  object\n",
      "  % OF UNIQUE VALUES:  0.04259548487860287\n",
      "  Values:  ['No' 'Yes' 'No internet service']\n",
      "  SAMPLE:  No\n",
      "\n",
      "COL NAME:  OnlineBackup\n",
      "  TYPE:  object\n",
      "  % OF UNIQUE VALUES:  0.04259548487860287\n",
      "  Values:  ['Yes' 'No' 'No internet service']\n",
      "  SAMPLE:  Yes\n",
      "\n",
      "COL NAME:  DeviceProtection\n",
      "  TYPE:  object\n",
      "  % OF UNIQUE VALUES:  0.04259548487860287\n",
      "  Values:  ['No' 'Yes' 'No internet service']\n",
      "  SAMPLE:  No\n",
      "\n",
      "COL NAME:  TechSupport\n",
      "  TYPE:  object\n",
      "  % OF UNIQUE VALUES:  0.04259548487860287\n",
      "  Values:  ['No' 'Yes' 'No internet service']\n",
      "  SAMPLE:  No\n",
      "\n",
      "COL NAME:  StreamingTV\n",
      "  TYPE:  object\n",
      "  % OF UNIQUE VALUES:  0.04259548487860287\n",
      "  Values:  ['No' 'Yes' 'No internet service']\n",
      "  SAMPLE:  No\n",
      "\n",
      "COL NAME:  StreamingMovies\n",
      "  TYPE:  object\n",
      "  % OF UNIQUE VALUES:  0.04259548487860287\n",
      "  Values:  ['No' 'Yes' 'No internet service']\n",
      "  SAMPLE:  No\n",
      "\n",
      "COL NAME:  Contract\n",
      "  TYPE:  object\n",
      "  % OF UNIQUE VALUES:  0.04259548487860287\n",
      "  Values:  ['Month-to-month' 'One year' 'Two year']\n",
      "  SAMPLE:  Month-to-month\n",
      "\n",
      "COL NAME:  MonthlyCharges\n",
      "  TYPE:  float64\n",
      "  % OF UNIQUE VALUES:  22.50461451086185\n",
      "  Values:  [29.85 56.95 53.85 ... 63.1  44.2  78.7 ]\n",
      "  SAMPLE:  29.85\n",
      "\n",
      "COL NAME:  TotalCharges\n",
      "  TYPE:  object\n",
      "  % OF UNIQUE VALUES:  92.73037058071844\n",
      "  Values:  ['29.85' '1889.5' '108.15' ... '346.45' '306.6' '6844.5']\n",
      "  SAMPLE:  29.85\n",
      "\n",
      "COL NAME:  Churn\n",
      "  TYPE:  object\n",
      "  % OF UNIQUE VALUES:  0.02839698991906858\n",
      "  Values:  ['No' 'Yes']\n",
      "  SAMPLE:  No\n",
      "\n"
     ]
    },
    {
     "data": {
      "text/plain": [
       "()"
      ]
     },
     "execution_count": 4,
     "metadata": {},
     "output_type": "execute_result"
    }
   ],
   "source": [
    "check_dtypes2(churnData)"
   ]
  },
  {
   "cell_type": "code",
   "execution_count": 5,
   "metadata": {},
   "outputs": [],
   "source": [
    "churnData['TotalCharges']= pd.to_numeric(churnData['TotalCharges'], errors='coerce')"
   ]
  },
  {
   "cell_type": "code",
   "execution_count": 6,
   "metadata": {},
   "outputs": [
    {
     "name": "stdout",
     "output_type": "stream",
     "text": [
      "COL NAME:  gender\n",
      "  TYPE:  object\n",
      "  % OF UNIQUE VALUES:  0.02839698991906858\n",
      "  Values:  ['Female' 'Male']\n",
      "  SAMPLE:  Female\n",
      "\n",
      "COL NAME:  SeniorCitizen\n",
      "  TYPE:  int64\n",
      "  % OF UNIQUE VALUES:  0.02839698991906858\n",
      "  Values:  [0 1]\n",
      "  SAMPLE:  0\n",
      "\n",
      "COL NAME:  Partner\n",
      "  TYPE:  object\n",
      "  % OF UNIQUE VALUES:  0.02839698991906858\n",
      "  Values:  ['Yes' 'No']\n",
      "  SAMPLE:  Yes\n",
      "\n",
      "COL NAME:  Dependents\n",
      "  TYPE:  object\n",
      "  % OF UNIQUE VALUES:  0.02839698991906858\n",
      "  Values:  ['No' 'Yes']\n",
      "  SAMPLE:  No\n",
      "\n",
      "COL NAME:  tenure\n",
      "  TYPE:  int64\n",
      "  % OF UNIQUE VALUES:  1.0364901320460032\n",
      "  Values:  [ 1 34  2 45  8 22 10 28 62 13 16 58 49 25 69 52 71 21 12 30 47 72 17 27\n",
      "  5 46 11 70 63 43 15 60 18 66  9  3 31 50 64 56  7 42 35 48 29 65 38 68\n",
      " 32 55 37 36 41  6  4 33 67 23 57 61 14 20 53 40 59 24 44 19 54 51 26  0\n",
      " 39]\n",
      "  SAMPLE:  1\n",
      "\n",
      "COL NAME:  PhoneService\n",
      "  TYPE:  object\n",
      "  % OF UNIQUE VALUES:  0.02839698991906858\n",
      "  Values:  ['No' 'Yes']\n",
      "  SAMPLE:  No\n",
      "\n",
      "COL NAME:  OnlineSecurity\n",
      "  TYPE:  object\n",
      "  % OF UNIQUE VALUES:  0.04259548487860287\n",
      "  Values:  ['No' 'Yes' 'No internet service']\n",
      "  SAMPLE:  No\n",
      "\n",
      "COL NAME:  OnlineBackup\n",
      "  TYPE:  object\n",
      "  % OF UNIQUE VALUES:  0.04259548487860287\n",
      "  Values:  ['Yes' 'No' 'No internet service']\n",
      "  SAMPLE:  Yes\n",
      "\n",
      "COL NAME:  DeviceProtection\n",
      "  TYPE:  object\n",
      "  % OF UNIQUE VALUES:  0.04259548487860287\n",
      "  Values:  ['No' 'Yes' 'No internet service']\n",
      "  SAMPLE:  No\n",
      "\n",
      "COL NAME:  TechSupport\n",
      "  TYPE:  object\n",
      "  % OF UNIQUE VALUES:  0.04259548487860287\n",
      "  Values:  ['No' 'Yes' 'No internet service']\n",
      "  SAMPLE:  No\n",
      "\n",
      "COL NAME:  StreamingTV\n",
      "  TYPE:  object\n",
      "  % OF UNIQUE VALUES:  0.04259548487860287\n",
      "  Values:  ['No' 'Yes' 'No internet service']\n",
      "  SAMPLE:  No\n",
      "\n",
      "COL NAME:  StreamingMovies\n",
      "  TYPE:  object\n",
      "  % OF UNIQUE VALUES:  0.04259548487860287\n",
      "  Values:  ['No' 'Yes' 'No internet service']\n",
      "  SAMPLE:  No\n",
      "\n",
      "COL NAME:  Contract\n",
      "  TYPE:  object\n",
      "  % OF UNIQUE VALUES:  0.04259548487860287\n",
      "  Values:  ['Month-to-month' 'One year' 'Two year']\n",
      "  SAMPLE:  Month-to-month\n",
      "\n",
      "COL NAME:  MonthlyCharges\n",
      "  TYPE:  float64\n",
      "  % OF UNIQUE VALUES:  22.50461451086185\n",
      "  Values:  [29.85 56.95 53.85 ... 63.1  44.2  78.7 ]\n",
      "  SAMPLE:  29.85\n",
      "\n",
      "COL NAME:  TotalCharges\n",
      "  TYPE:  float64\n",
      "  % OF UNIQUE VALUES:  92.73037058071844\n",
      "  Values:  [  29.85 1889.5   108.15 ...  346.45  306.6  6844.5 ]\n",
      "  SAMPLE:  29.85\n",
      "\n",
      "COL NAME:  Churn\n",
      "  TYPE:  object\n",
      "  % OF UNIQUE VALUES:  0.02839698991906858\n",
      "  Values:  ['No' 'Yes']\n",
      "  SAMPLE:  No\n",
      "\n"
     ]
    },
    {
     "data": {
      "text/plain": [
       "()"
      ]
     },
     "execution_count": 6,
     "metadata": {},
     "output_type": "execute_result"
    }
   ],
   "source": [
    "check_dtypes2(churnData)"
   ]
  },
  {
   "cell_type": "markdown",
   "metadata": {
    "id": "0_2o3gEly8Fh"
   },
   "source": [
    "Check for null values in the dataframe. Replace the null values."
   ]
  },
  {
   "cell_type": "code",
   "execution_count": 7,
   "metadata": {},
   "outputs": [
    {
     "data": {
      "text/html": [
       "<div>\n",
       "<style scoped>\n",
       "    .dataframe tbody tr th:only-of-type {\n",
       "        vertical-align: middle;\n",
       "    }\n",
       "\n",
       "    .dataframe tbody tr th {\n",
       "        vertical-align: top;\n",
       "    }\n",
       "\n",
       "    .dataframe thead th {\n",
       "        text-align: right;\n",
       "    }\n",
       "</style>\n",
       "<table border=\"1\" class=\"dataframe\">\n",
       "  <thead>\n",
       "    <tr style=\"text-align: right;\">\n",
       "      <th></th>\n",
       "      <th>header</th>\n",
       "      <th>percentage_nulls</th>\n",
       "    </tr>\n",
       "  </thead>\n",
       "  <tbody>\n",
       "    <tr>\n",
       "      <th>0</th>\n",
       "      <td>gender</td>\n",
       "      <td>0.00</td>\n",
       "    </tr>\n",
       "    <tr>\n",
       "      <th>1</th>\n",
       "      <td>SeniorCitizen</td>\n",
       "      <td>0.00</td>\n",
       "    </tr>\n",
       "    <tr>\n",
       "      <th>2</th>\n",
       "      <td>Partner</td>\n",
       "      <td>0.00</td>\n",
       "    </tr>\n",
       "    <tr>\n",
       "      <th>3</th>\n",
       "      <td>Dependents</td>\n",
       "      <td>0.00</td>\n",
       "    </tr>\n",
       "    <tr>\n",
       "      <th>4</th>\n",
       "      <td>tenure</td>\n",
       "      <td>0.00</td>\n",
       "    </tr>\n",
       "    <tr>\n",
       "      <th>5</th>\n",
       "      <td>PhoneService</td>\n",
       "      <td>0.00</td>\n",
       "    </tr>\n",
       "    <tr>\n",
       "      <th>6</th>\n",
       "      <td>OnlineSecurity</td>\n",
       "      <td>0.00</td>\n",
       "    </tr>\n",
       "    <tr>\n",
       "      <th>7</th>\n",
       "      <td>OnlineBackup</td>\n",
       "      <td>0.00</td>\n",
       "    </tr>\n",
       "    <tr>\n",
       "      <th>8</th>\n",
       "      <td>DeviceProtection</td>\n",
       "      <td>0.00</td>\n",
       "    </tr>\n",
       "    <tr>\n",
       "      <th>9</th>\n",
       "      <td>TechSupport</td>\n",
       "      <td>0.00</td>\n",
       "    </tr>\n",
       "    <tr>\n",
       "      <th>10</th>\n",
       "      <td>StreamingTV</td>\n",
       "      <td>0.00</td>\n",
       "    </tr>\n",
       "    <tr>\n",
       "      <th>11</th>\n",
       "      <td>StreamingMovies</td>\n",
       "      <td>0.00</td>\n",
       "    </tr>\n",
       "    <tr>\n",
       "      <th>12</th>\n",
       "      <td>Contract</td>\n",
       "      <td>0.00</td>\n",
       "    </tr>\n",
       "    <tr>\n",
       "      <th>13</th>\n",
       "      <td>MonthlyCharges</td>\n",
       "      <td>0.00</td>\n",
       "    </tr>\n",
       "    <tr>\n",
       "      <th>14</th>\n",
       "      <td>TotalCharges</td>\n",
       "      <td>0.16</td>\n",
       "    </tr>\n",
       "    <tr>\n",
       "      <th>15</th>\n",
       "      <td>Churn</td>\n",
       "      <td>0.00</td>\n",
       "    </tr>\n",
       "  </tbody>\n",
       "</table>\n",
       "</div>"
      ],
      "text/plain": [
       "              header  percentage_nulls\n",
       "0             gender              0.00\n",
       "1      SeniorCitizen              0.00\n",
       "2            Partner              0.00\n",
       "3         Dependents              0.00\n",
       "4             tenure              0.00\n",
       "5       PhoneService              0.00\n",
       "6     OnlineSecurity              0.00\n",
       "7       OnlineBackup              0.00\n",
       "8   DeviceProtection              0.00\n",
       "9        TechSupport              0.00\n",
       "10       StreamingTV              0.00\n",
       "11   StreamingMovies              0.00\n",
       "12          Contract              0.00\n",
       "13    MonthlyCharges              0.00\n",
       "14      TotalCharges              0.16\n",
       "15             Churn              0.00"
      ]
     },
     "execution_count": 7,
     "metadata": {},
     "output_type": "execute_result"
    }
   ],
   "source": [
    "null_find(churnData)"
   ]
  },
  {
   "cell_type": "code",
   "execution_count": 8,
   "metadata": {},
   "outputs": [],
   "source": [
    "churnData.dropna(subset=['TotalCharges'], inplace = True)"
   ]
  },
  {
   "cell_type": "code",
   "execution_count": 9,
   "metadata": {},
   "outputs": [],
   "source": [
    "churnData.reset_index(drop=True, inplace = True)"
   ]
  },
  {
   "cell_type": "code",
   "execution_count": 10,
   "metadata": {},
   "outputs": [
    {
     "data": {
      "text/html": [
       "<div>\n",
       "<style scoped>\n",
       "    .dataframe tbody tr th:only-of-type {\n",
       "        vertical-align: middle;\n",
       "    }\n",
       "\n",
       "    .dataframe tbody tr th {\n",
       "        vertical-align: top;\n",
       "    }\n",
       "\n",
       "    .dataframe thead th {\n",
       "        text-align: right;\n",
       "    }\n",
       "</style>\n",
       "<table border=\"1\" class=\"dataframe\">\n",
       "  <thead>\n",
       "    <tr style=\"text-align: right;\">\n",
       "      <th></th>\n",
       "      <th>header</th>\n",
       "      <th>percentage_nulls</th>\n",
       "    </tr>\n",
       "  </thead>\n",
       "  <tbody>\n",
       "    <tr>\n",
       "      <th>0</th>\n",
       "      <td>gender</td>\n",
       "      <td>0.0</td>\n",
       "    </tr>\n",
       "    <tr>\n",
       "      <th>1</th>\n",
       "      <td>SeniorCitizen</td>\n",
       "      <td>0.0</td>\n",
       "    </tr>\n",
       "    <tr>\n",
       "      <th>2</th>\n",
       "      <td>Partner</td>\n",
       "      <td>0.0</td>\n",
       "    </tr>\n",
       "    <tr>\n",
       "      <th>3</th>\n",
       "      <td>Dependents</td>\n",
       "      <td>0.0</td>\n",
       "    </tr>\n",
       "    <tr>\n",
       "      <th>4</th>\n",
       "      <td>tenure</td>\n",
       "      <td>0.0</td>\n",
       "    </tr>\n",
       "    <tr>\n",
       "      <th>5</th>\n",
       "      <td>PhoneService</td>\n",
       "      <td>0.0</td>\n",
       "    </tr>\n",
       "    <tr>\n",
       "      <th>6</th>\n",
       "      <td>OnlineSecurity</td>\n",
       "      <td>0.0</td>\n",
       "    </tr>\n",
       "    <tr>\n",
       "      <th>7</th>\n",
       "      <td>OnlineBackup</td>\n",
       "      <td>0.0</td>\n",
       "    </tr>\n",
       "    <tr>\n",
       "      <th>8</th>\n",
       "      <td>DeviceProtection</td>\n",
       "      <td>0.0</td>\n",
       "    </tr>\n",
       "    <tr>\n",
       "      <th>9</th>\n",
       "      <td>TechSupport</td>\n",
       "      <td>0.0</td>\n",
       "    </tr>\n",
       "    <tr>\n",
       "      <th>10</th>\n",
       "      <td>StreamingTV</td>\n",
       "      <td>0.0</td>\n",
       "    </tr>\n",
       "    <tr>\n",
       "      <th>11</th>\n",
       "      <td>StreamingMovies</td>\n",
       "      <td>0.0</td>\n",
       "    </tr>\n",
       "    <tr>\n",
       "      <th>12</th>\n",
       "      <td>Contract</td>\n",
       "      <td>0.0</td>\n",
       "    </tr>\n",
       "    <tr>\n",
       "      <th>13</th>\n",
       "      <td>MonthlyCharges</td>\n",
       "      <td>0.0</td>\n",
       "    </tr>\n",
       "    <tr>\n",
       "      <th>14</th>\n",
       "      <td>TotalCharges</td>\n",
       "      <td>0.0</td>\n",
       "    </tr>\n",
       "    <tr>\n",
       "      <th>15</th>\n",
       "      <td>Churn</td>\n",
       "      <td>0.0</td>\n",
       "    </tr>\n",
       "  </tbody>\n",
       "</table>\n",
       "</div>"
      ],
      "text/plain": [
       "              header  percentage_nulls\n",
       "0             gender               0.0\n",
       "1      SeniorCitizen               0.0\n",
       "2            Partner               0.0\n",
       "3         Dependents               0.0\n",
       "4             tenure               0.0\n",
       "5       PhoneService               0.0\n",
       "6     OnlineSecurity               0.0\n",
       "7       OnlineBackup               0.0\n",
       "8   DeviceProtection               0.0\n",
       "9        TechSupport               0.0\n",
       "10       StreamingTV               0.0\n",
       "11   StreamingMovies               0.0\n",
       "12          Contract               0.0\n",
       "13    MonthlyCharges               0.0\n",
       "14      TotalCharges               0.0\n",
       "15             Churn               0.0"
      ]
     },
     "execution_count": 10,
     "metadata": {},
     "output_type": "execute_result"
    }
   ],
   "source": [
    "null_find(churnData)"
   ]
  },
  {
   "cell_type": "markdown",
   "metadata": {},
   "source": [
    "Use the following features: tenure, SeniorCitizen, MonthlyCharges and TotalCharges:\n",
    "\n",
    "    Scale the features either by using normalizer or a standard scaler."
   ]
  },
  {
   "cell_type": "code",
   "execution_count": 11,
   "metadata": {},
   "outputs": [],
   "source": [
    "churnData = scaleColumns(churnData, ['SeniorCitizen','MonthlyCharges','TotalCharges'])\n"
   ]
  },
  {
   "cell_type": "code",
   "execution_count": 12,
   "metadata": {
    "scrolled": true
   },
   "outputs": [
    {
     "data": {
      "text/plain": [
       "0      -0.440327\n",
       "1      -0.440327\n",
       "2      -0.440327\n",
       "3      -0.440327\n",
       "4      -0.440327\n",
       "          ...   \n",
       "7027   -0.440327\n",
       "7028   -0.440327\n",
       "7029   -0.440327\n",
       "7030    2.271039\n",
       "7031   -0.440327\n",
       "Name: SeniorCitizen, Length: 7032, dtype: float64"
      ]
     },
     "execution_count": 12,
     "metadata": {},
     "output_type": "execute_result"
    }
   ],
   "source": [
    "churnData.SeniorCitizen"
   ]
  },
  {
   "cell_type": "code",
   "execution_count": 13,
   "metadata": {},
   "outputs": [
    {
     "data": {
      "text/plain": [
       "No     5163\n",
       "Yes    1869\n",
       "Name: Churn, dtype: int64"
      ]
     },
     "execution_count": 13,
     "metadata": {},
     "output_type": "execute_result"
    }
   ],
   "source": [
    "churnData['Churn'].value_counts()"
   ]
  },
  {
   "cell_type": "markdown",
   "metadata": {},
   "source": [
    "Use the resampling strategies used in class for upsampling and downsampling to create a balance between the two classes."
   ]
  },
  {
   "cell_type": "markdown",
   "metadata": {
    "id": "5zXWS6DJEtwH"
   },
   "source": [
    "# Lab | Cross Validation"
   ]
  },
  {
   "cell_type": "code",
   "execution_count": 14,
   "metadata": {},
   "outputs": [],
   "source": [
    "Xf=churnData.drop(['Churn'], axis=1)\n",
    "yf=churnData['Churn']\n",
    "Xf_num=Xf.select_dtypes(include = np.number)\n",
    "Xf_cat = pd.get_dummies(Xf.select_dtypes(include = 'object'), drop_first=True)\n",
    "Xf=pd.concat([Xf_num, Xf_cat], axis=1)"
   ]
  },
  {
   "cell_type": "code",
   "execution_count": null,
   "metadata": {},
   "outputs": [],
   "source": []
  },
  {
   "cell_type": "markdown",
   "metadata": {},
   "source": [
    "# Apply SMOTE for upsampling the data"
   ]
  },
  {
   "cell_type": "code",
   "execution_count": 15,
   "metadata": {
    "scrolled": true
   },
   "outputs": [
    {
     "name": "stdout",
     "output_type": "stream",
     "text": [
      "[['No' 5163]\n",
      " ['Yes' 5163]]\n"
     ]
    }
   ],
   "source": [
    "from imblearn.over_sampling import SMOTE\n",
    "\n",
    "# SMOTE only can handle numerical features. Therefore, if we want to use categoricals they \n",
    "# will need to be dummyfied. However, for sake of simplicity we will not include the categoricals.\n",
    "\n",
    "data = pd.concat([Xf,yf],axis=1)\n",
    "smote = SMOTE()\n",
    "y = data['Churn']\n",
    "X = data.drop(['Churn'], axis=1)\n",
    "X_sm, y_sm = smote.fit_resample(X, y)\n",
    "\n",
    "unique, counts = np.unique(y_sm, return_counts=True)\n",
    "print(np.asarray((unique, counts)).T)"
   ]
  },
  {
   "cell_type": "markdown",
   "metadata": {},
   "source": [
    "# Use logistic regression to fit the model and compute the accuracy of the model."
   ]
  },
  {
   "cell_type": "code",
   "execution_count": 16,
   "metadata": {},
   "outputs": [],
   "source": [
    "Xf=data.drop(['Churn'], axis=1)\n",
    "yf=data['Churn']\n",
    "    \n",
    "X_train, X_test, y_train, y_test = train_test_split(Xf, yf, test_size=0.3, random_state=42)"
   ]
  },
  {
   "cell_type": "code",
   "execution_count": 17,
   "metadata": {},
   "outputs": [
    {
     "name": "stdout",
     "output_type": "stream",
     "text": [
      "              precision    recall  f1-score   support\n",
      "\n",
      "          No       0.83      0.89      0.86      1549\n",
      "         Yes       0.63      0.51      0.57       561\n",
      "\n",
      "    accuracy                           0.79      2110\n",
      "   macro avg       0.73      0.70      0.71      2110\n",
      "weighted avg       0.78      0.79      0.78      2110\n",
      "\n"
     ]
    }
   ],
   "source": [
    "model = LogisticRegression(max_iter = 500)\n",
    "model.fit( X_train, y_train )\n",
    "predicted = model.predict(X_test)\n",
    "print(classification_report(y_test, predicted))"
   ]
  },
  {
   "cell_type": "markdown",
   "metadata": {},
   "source": [
    "# Use decision tree classifier to fit the model and compute the accuracy of the model."
   ]
  },
  {
   "cell_type": "code",
   "execution_count": 18,
   "metadata": {},
   "outputs": [
    {
     "name": "stdout",
     "output_type": "stream",
     "text": [
      "              precision    recall  f1-score   support\n",
      "\n",
      "          No       0.82      0.79      0.81      1549\n",
      "         Yes       0.47      0.51      0.49       561\n",
      "\n",
      "    accuracy                           0.72      2110\n",
      "   macro avg       0.65      0.65      0.65      2110\n",
      "weighted avg       0.73      0.72      0.72      2110\n",
      "\n"
     ]
    }
   ],
   "source": [
    "model = DecisionTreeClassifier(random_state=0)\n",
    "model.fit( X_train, y_train )\n",
    "predicted = model.predict(X_test)\n",
    "print(classification_report(y_test, predicted))"
   ]
  },
  {
   "cell_type": "markdown",
   "metadata": {},
   "source": [
    "# -Compare the accuracies of the two models.\n",
    "\n",
    "Logistic regression is better in this case with higher scores in every metric"
   ]
  },
  {
   "cell_type": "code",
   "execution_count": null,
   "metadata": {},
   "outputs": [],
   "source": []
  },
  {
   "cell_type": "markdown",
   "metadata": {},
   "source": [
    "# Apply TomekLinks for downsampling\n",
    "\n",
    "    It is important to remember that it does not make the two classes equal but only removes the points from the majority class that are close to other points in minority class."
   ]
  },
  {
   "cell_type": "code",
   "execution_count": null,
   "metadata": {},
   "outputs": [],
   "source": []
  },
  {
   "cell_type": "code",
   "execution_count": 19,
   "metadata": {},
   "outputs": [
    {
     "name": "stderr",
     "output_type": "stream",
     "text": [
      "C:\\Users\\Kyre\\AppData\\Roaming\\Python\\Python39\\site-packages\\imblearn\\utils\\_validation.py:586: FutureWarning: Pass sampling_strategy=majority as keyword args. From version 0.9 passing these as positional arguments will result in an error\n",
      "  warnings.warn(\n"
     ]
    },
    {
     "name": "stdout",
     "output_type": "stream",
     "text": [
      "[['No' 4684]\n",
      " ['Yes' 1869]]\n"
     ]
    }
   ],
   "source": [
    "from imblearn.under_sampling import TomekLinks\n",
    "\n",
    "tl = TomekLinks('majority')\n",
    "X_tl, y_tl = tl.fit_resample(Xf, yf)\n",
    "\n",
    "\n",
    "unique, counts = np.unique(y_tl, return_counts=True)\n",
    "print(np.asarray((unique, counts)).T)"
   ]
  },
  {
   "cell_type": "markdown",
   "metadata": {},
   "source": [
    "# Use logistic regression to fit the model and compute the accuracy of the model."
   ]
  },
  {
   "cell_type": "code",
   "execution_count": 20,
   "metadata": {},
   "outputs": [],
   "source": [
    "X_train, X_test, y_train, y_test = train_test_split(X_tl, y_tl, test_size=0.3, random_state=42)"
   ]
  },
  {
   "cell_type": "code",
   "execution_count": 21,
   "metadata": {},
   "outputs": [
    {
     "name": "stdout",
     "output_type": "stream",
     "text": [
      "              precision    recall  f1-score   support\n",
      "\n",
      "          No       0.84      0.88      0.86      1376\n",
      "         Yes       0.68      0.60      0.64       590\n",
      "\n",
      "    accuracy                           0.80      1966\n",
      "   macro avg       0.76      0.74      0.75      1966\n",
      "weighted avg       0.79      0.80      0.79      1966\n",
      "\n"
     ]
    }
   ],
   "source": [
    "model = LogisticRegression(max_iter = 500)\n",
    "model.fit( X_train, y_train )\n",
    "predicted = model.predict(X_test)\n",
    "print(classification_report(y_test, predicted))"
   ]
  },
  {
   "cell_type": "markdown",
   "metadata": {},
   "source": [
    "# Use decision tree classifier to fit the model and compute the accuracy of the model."
   ]
  },
  {
   "cell_type": "code",
   "execution_count": 22,
   "metadata": {},
   "outputs": [
    {
     "name": "stdout",
     "output_type": "stream",
     "text": [
      "              precision    recall  f1-score   support\n",
      "\n",
      "          No       0.82      0.82      0.82      1376\n",
      "         Yes       0.57      0.57      0.57       590\n",
      "\n",
      "    accuracy                           0.74      1966\n",
      "   macro avg       0.70      0.70      0.70      1966\n",
      "weighted avg       0.74      0.74      0.74      1966\n",
      "\n"
     ]
    }
   ],
   "source": [
    "model = DecisionTreeClassifier(random_state=0)\n",
    "model.fit( X_train, y_train )\n",
    "predicted = model.predict(X_test)\n",
    "print(classification_report(y_test, predicted))"
   ]
  },
  {
   "cell_type": "markdown",
   "metadata": {},
   "source": [
    "# Compare the accuracies of the two models.\n",
    "logistic regression is better again"
   ]
  },
  {
   "cell_type": "markdown",
   "metadata": {},
   "source": [
    "# You can also apply this algorithm one more time and check the how the imbalance in the two classes changed from the last time."
   ]
  },
  {
   "cell_type": "code",
   "execution_count": 23,
   "metadata": {},
   "outputs": [
    {
     "name": "stderr",
     "output_type": "stream",
     "text": [
      "C:\\Users\\Kyre\\AppData\\Roaming\\Python\\Python39\\site-packages\\imblearn\\utils\\_validation.py:586: FutureWarning: Pass sampling_strategy=majority as keyword args. From version 0.9 passing these as positional arguments will result in an error\n",
      "  warnings.warn(\n"
     ]
    },
    {
     "name": "stdout",
     "output_type": "stream",
     "text": [
      "[['No' 4554]\n",
      " ['Yes' 1869]]\n"
     ]
    }
   ],
   "source": [
    "tl = TomekLinks('majority')\n",
    "X_tl2, y_tl2 = tl.fit_resample(X_tl, y_tl)\n",
    "\n",
    "\n",
    "unique, counts = np.unique(y_tl2, return_counts=True)\n",
    "print(np.asarray((unique, counts)).T)"
   ]
  },
  {
   "cell_type": "code",
   "execution_count": null,
   "metadata": {},
   "outputs": [],
   "source": []
  }
 ],
 "metadata": {
  "colab": {
   "authorship_tag": "ABX9TyNL/zxJu0e6QcfkV5A3PVS7",
   "name": "Afternoon.ipynb",
   "provenance": [],
   "toc_visible": true
  },
  "kernelspec": {
   "display_name": "Python 3 (ipykernel)",
   "language": "python",
   "name": "python3"
  },
  "language_info": {
   "codemirror_mode": {
    "name": "ipython",
    "version": 3
   },
   "file_extension": ".py",
   "mimetype": "text/x-python",
   "name": "python",
   "nbconvert_exporter": "python",
   "pygments_lexer": "ipython3",
   "version": "3.9.7"
  }
 },
 "nbformat": 4,
 "nbformat_minor": 1
}
